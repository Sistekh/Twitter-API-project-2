{
 "cells": [
  {
   "cell_type": "code",
   "execution_count": 44,
   "metadata": {},
   "outputs": [],
   "source": [
    "import tweepy\n",
    "CONSUMER_KEY = 'jwmJ25dFGgTeFhE7r50sqZUnT'\n",
    "CONSUMER_SECRET = 'OXjpYK4BSXvPc41kzwAkoL8M4WCLUSxpQlYzP8KINXwAPMmABW'\n",
    "ACCESS_TOKEN = '14347090-Zz6rFUln5bsRtPXoRZGMNVl0XAAtT4PJpjy6aoJOi'\n",
    "ACCESS_TOKEN_SECRET = 'rXPB89bUqNPcaxEzQQxjv5LueeEBiQfPhY8e4R7DwSJXr'\n",
    "\n",
    "auth = tweepy.OAuthHandler(CONSUMER_KEY, CONSUMER_SECRET)\n",
    "auth.set_access_token(ACCESS_TOKEN, ACCESS_TOKEN_SECRET)\n",
    "\n",
    "fn = './microtargeting_influence_industry.json'"
   ]
  },
  {
   "cell_type": "code",
   "execution_count": 45,
   "metadata": {},
   "outputs": [],
   "source": [
    "import json\n",
    "import csv\n",
    "from datetime import date\n",
    "from datetime import datetime\n",
    "import time"
   ]
  },
  {
   "cell_type": "code",
   "execution_count": 30,
   "metadata": {},
   "outputs": [],
   "source": [
    "api = tweepy.API(auth, wait_on_rate_limit=True)\n",
    "result = []\n",
    "for tweet in tweepy.Cursor(api.search, \"influence industry\" and \"microtargeting\", tweet_mode=\"extended\").items(1000):\n",
    "    if 'retweeted_status' in tweet._json:\n",
    "        continue\n",
    "    else:\n",
    "        result.append(tweet._json)\n",
    "\n",
    "with open('./microtargeting_influence_industry.json', 'w') as f: # Change the filename here to where you want to save it\n",
    "    json.dump(result, f) # This writes the JSON to the file\n",
    "    "
   ]
  },
  {
   "cell_type": "code",
   "execution_count": 46,
   "metadata": {},
   "outputs": [],
   "source": [
    "with open(fn, 'r') as f:\n",
    "    x = json.load(f)"
   ]
  },
  {
   "cell_type": "code",
   "execution_count": 37,
   "metadata": {},
   "outputs": [
    {
     "name": "stdout",
     "output_type": "stream",
     "text": [
      "2020-03-31 05:19:08 986248214 [New paper] Double harm to voters: data-driven micro-targeting and democratic public discourse, By @JuditBayer https://t.co/TPQSDM6f51 cc @ColinBennett0 @sscqueens #microtargeting https://t.co/SJzb729IaB\n"
     ]
    }
   ],
   "source": [
    "import csv\n",
    "import xlsxwriter\n",
    "import pandas as pd\n",
    "\n",
    "#The two lines of code below open a file and then prep it for storing data\n",
    "csvFile = open('microtargeting_influence_industry.csv', 'a', encoding='utf8')\n",
    "#Use csv Writer\n",
    "csvWriter = csv.writer(csvFile)\n",
    "\n",
    "for tweet in tweepy.Cursor(api.search, \"influence industry\" and \"microtargeting\", tweet_mode=\"extended\").items(1000):\n",
    "    if 'retweeted_status' in tweet._json:\n",
    "        continue\n",
    "    else: \n",
    "# Write a row to the CSV file. I use encode UTF-8\n",
    "        csvWriter.writerow([tweet.created_at, tweet.user.id, tweet.full_text, ('utf-8')])\n",
    "        print(tweet.created_at, tweet.user.id, tweet.full_text)\n",
    "csvFile.close()\n"
   ]
  },
  {
   "cell_type": "code",
   "execution_count": 39,
   "metadata": {},
   "outputs": [
    {
     "name": "stdout",
     "output_type": "stream",
     "text": [
      "[Democratic, Harold Ickes, 1996, Clinton]\n",
      "[first, https://t.co/spB6N2ibtO]\n",
      "[3, de la democracia]\n",
      "[@FEC, Ellen Weintraub, VirtualPrincetonU, ServiceFocus]\n",
      "[]\n",
      "[AIQ, Brexit, Trump]\n",
      "[Social Justice, HATE]\n",
      "[]\n",
      "[GOP]\n",
      "[Democrats, America, Trump, GOP, 14th]\n",
      "[]\n",
      "[lo que es el, de Facebook, lo que es lo mismo, por qué, nunca al, 100%, que aparezcan, tu, sean]\n",
      "[]\n",
      "[2016, 100]\n",
      "[The Brutal Bludgeoning of Experts Endangers All of us, AIQ, Cambridge, Brexit &amp, 45, misogyny &amp, 2bexploited]\n",
      "[4월 7일, Netflix]\n",
      "[two weeks ago]\n",
      "[@EllenLWeintraub]\n",
      "[Trump, Kasich]\n",
      "[Virtual Town Hall, @EllenLWeintraub, @SamWangPhD]\n",
      "[this weeks, COMM_3321A]\n",
      "[Republican, Bill Clinton, Republican, Democratic]\n",
      "[Questo]\n",
      "[han, el, del mundo, con cámaras y reconocimiento, Cummings, uso de los fake, como diría la abuela de]\n",
      "[https://t.co/iQScsjId3g]\n",
      "[algorithm]\n",
      "[@EllenLWeintraub, @SamWangPhD]\n",
      "[@princetongerry @SamWangPhD @EllenLWeintraub, @jhblackb]\n",
      "[@SamWangPhD, @EllenLWeintraub, FixingBugsInDemocracy]\n",
      "[Cambridge Analytica]\n",
      "[just a few hours, 6:00pm, Eastern, FEC, 6:30pm, FixingBugsinDemocracy]\n",
      "[@HesterAssen Microtargeting]\n",
      "[the University of Wisconsin, only 11%, FEC, frpg2137]\n",
      "[]\n",
      "[the Princeton Gerrymandering Project, three, first, tonight, @SamWangPhD, Ellen L. Weintraub]\n",
      "[6 PM ET, @SamWangPhD, Ellen L. Weintraub, FixingBugsInDemocracy]\n",
      "[@princetongerry, \"Fixing Bugs in Democracy, tonight, next week, COVID, 4/17, the talented author &amp]\n",
      "[Trump, Democrats, Facebook, the years, Trump]\n",
      "[]\n",
      "[Today, @EllenLWeintraub, the Federal Election Commission, today]\n",
      "[Today, the day, @SamWangPhD, @EllenLWeintraub, tonight, 6 PM ET, FixingBugsinDemocracy, today]\n",
      "[one, Facebook, Cambridge Analytica]\n",
      "[2004, Rove, Bush, years, 2016, frpg2137]\n",
      "[first, tomorrow, 6 PM, PrincetonU, Sam Wang, @FEC Ellen Weintraub, #VirtualPrincetonU]\n",
      "[Big Data Analysis, @powerhomebiz]\n",
      "[@Lauheim @c_williams77, communist, Russian, Cambridge Analytica]\n",
      "[Microtargeting, Datascams]\n",
      "[Corona]\n",
      "[Trump Won, Democrats]\n",
      "[billions of dollars]\n",
      "[]\n",
      "[@sscqueens]\n"
     ]
    }
   ],
   "source": [
    "import spacy\n",
    "nlp = spacy.load('en')\n",
    "api = tweepy.API(auth, wait_on_rate_limit=True)\n",
    "\n",
    "for tweet in tweepy.Cursor(api.search, \"influence industry\" and \"microtargeting\", tweet_mode=\"extended\").items(1000):\n",
    "    if 'retweeted_status' in tweet._json:\n",
    "        continue\n",
    "    else: \n",
    "        doc = nlp(tweet.full_text)\n",
    "        print([ent for ent in doc.ents])\n",
    "\n"
   ]
  },
  {
   "cell_type": "code",
   "execution_count": 42,
   "metadata": {},
   "outputs": [],
   "source": [
    "import csv\n",
    "import xlsxwriter\n",
    "import pandas as pd\n",
    "\n",
    "#The two lines of code below open a file and then prep it for storing data\n",
    "csvFile = open('microtargeting_influence_industry.csv', 'a', encoding='utf8')\n",
    "#Use csv Writer\n",
    "csvWriter = csv.writer(csvFile)\n",
    "\n",
    "for tweet in tweepy.Cursor(api.search, \"influence industry\" and \"microtargeting\", tweet_mode=\"extended\").items(10):\n",
    "    if 'retweeted_status' in tweet._json:\n",
    "        continue\n",
    "    else: \n",
    "# Write a row to the CSV file. I use encode UTF-8\n",
    "        csvWriter.writerow([tweet.created_at, tweet.user.id, tweet.full_text, ('utf-8')])\n",
    "        print(tweet.created_at, tweet.user.id, tweet.full_text)\n",
    "csvFile.close()"
   ]
  },
  {
   "cell_type": "code",
   "execution_count": null,
   "metadata": {},
   "outputs": [],
   "source": []
  }
 ],
 "metadata": {
  "kernelspec": {
   "display_name": "Python 3",
   "language": "python",
   "name": "python3"
  },
  "language_info": {
   "codemirror_mode": {
    "name": "ipython",
    "version": 3
   },
   "file_extension": ".py",
   "mimetype": "text/x-python",
   "name": "python",
   "nbconvert_exporter": "python",
   "pygments_lexer": "ipython3",
   "version": "3.7.4"
  }
 },
 "nbformat": 4,
 "nbformat_minor": 2
}
