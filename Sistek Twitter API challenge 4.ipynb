{
 "cells": [
  {
   "attachments": {},
   "cell_type": "markdown",
   "metadata": {},
   "source": [
    "Research question: what are people saying about microtargeting and the influence industry? What organizations or entities are being mentioned?\n",
    "\n",
    "I’m curious about this, since the US election is coming up and Cambridge Analytica/microtargeting influenced the last election. I want to know who else is involved in microtargeting (companies/government entities). I’d like to gather tweets with the keywords “microtargeting” and the “influence industry” and use entity extraction to find the entities mentioned in conjunction with these two concepts. I would then like to use topic modeling to identify the most common words/entities out of those found. Then I’d like to visualize these with a simple histogram."
   ]
  },
  {
   "cell_type": "code",
   "execution_count": 1,
   "metadata": {},
   "outputs": [],
   "source": [
    "import tweepy\n",
    "from twitter_authentication import CONSUMER_KEY, CONSUMER_SECRET, ACCESS_TOKEN, ACCESS_TOKEN_SECRET\n",
    "\n",
    "auth = tweepy.OAuthHandler(CONSUMER_KEY, CONSUMER_SECRET)\n",
    "auth.set_access_token(ACCESS_TOKEN, ACCESS_TOKEN_SECRET)\n",
    "\n",
    "fn = './microtargeting_influence_industry.json'"
   ]
  },
  {
   "cell_type": "code",
   "execution_count": 2,
   "metadata": {},
   "outputs": [],
   "source": [
    "import json\n",
    "import csv\n",
    "from datetime import date\n",
    "from datetime import datetime\n",
    "import time"
   ]
  },
  {
   "cell_type": "markdown",
   "metadata": {},
   "source": [
    "Gathering the tweets and save the raw data as a .json file"
   ]
  },
  {
   "cell_type": "code",
   "execution_count": 3,
   "metadata": {},
   "outputs": [],
   "source": [
    "api = tweepy.API(auth, wait_on_rate_limit=True)\n",
    "result = []\n",
    "for tweet in tweepy.Cursor(api.search, \"influence industry\" and \"microtargeting\", tweet_mode=\"extended\").items(1000):\n",
    "    if 'retweeted_status' in tweet._json:\n",
    "        continue\n",
    "    else:\n",
    "        result.append(tweet._json)\n",
    "\n",
    "with open('./microtargeting_influence_industry.json', 'w') as f: # Change the filename here to where you want to save it\n",
    "    json.dump(result, f) # This writes the JSON to the file\n",
    "    "
   ]
  },
  {
   "cell_type": "code",
   "execution_count": 4,
   "metadata": {},
   "outputs": [],
   "source": [
    "with open(fn, 'r') as f:\n",
    "    x = json.load(f)"
   ]
  },
  {
   "cell_type": "markdown",
   "metadata": {},
   "source": [
    "Code that filters the data into what I'm interested in, and saves it as a csv-file"
   ]
  },
  {
   "cell_type": "code",
   "execution_count": 5,
   "metadata": {},
   "outputs": [
    {
     "name": "stdout",
     "output_type": "stream",
     "text": [
      "2020-04-14 17:09:22 1193969226220023808 And here's a recording of our first virtual town hall, with @EllenLWeintraub! Send us questions for our virtual town hall by tweeting #FixingBugsInDemocracy! \n",
      "https://t.co/gwpcXLOsyS\n",
      "2020-04-14 13:30:29 275130204 🖥️ Conocé más sobre microtargeting en nuestros dos informes sobre el tema.\n",
      "\n",
      "1° caso de estudio | PRO 2015-2017 👉 https://t.co/HbIhSZOAL4      \n",
      "2° caso de estudio | FPV 2015 / UC 2017 👉 https://t.co/9VWhhY4nmV https://t.co/dD1FgpMXan\n",
      "2020-04-14 12:55:20 1051840833736073221 Was ist eigentlich Micro Targeting?\n",
      "Und was haben Unternehmen davon? Jetzt mehr erfahren: https://t.co/gTaOsrEQZi\n",
      "#Digitalisierung #KMU #Marketing #Microtargeting #ReTargeting #SocialMedia #Targeting https://t.co/AfpXectxvX https://t.co/1CiERURzWu\n",
      "2020-04-14 10:50:02 4878198771 Ces données qui font tourner l'économie du numérique - Vidéo - Play RTS https://t.co/oT4b1p5FzC #reconnaissance #microtargeting #DataBrokers\n",
      "2020-04-14 04:16:07 75209239 “Political speech can only be scrutinized if we’re all seeing the same thing” as @YaelEisenstat on how microtargeting is at odds with Zuckerberg’s dubious claims to defend its bad political ads policy. Same point @davidcicilline made at International Grand Committee hearings. https://t.co/R43alb0wuR\n",
      "2020-04-14 01:25:00 363933067 Might starting microtargeting some tweets to see who has or hasn't muted me by now\n",
      "2020-04-13 14:21:02 2341048110 🔍 Recordar lições do passado para escolhas livres no futuro. Paula Guedes analisa as possíveis problemáticas no uso de microtargeting em campanhas eleitorais: desinformação, polarização, filtros-bolha e efeito silenciador de certos discursos. Leia. 📲https://t.co/RC5cSJ1jOM\n",
      "2020-04-13 13:04:03 280942428 @johnban81940041 @MediaGuido @KathViner @davidtpegg @PaulLewis @david_conn The Guardian have always been big fans of microtargeting, especially when using Facebook data for political parties. https://t.co/5mRzeKAzeb\n",
      "2020-04-13 12:25:59 810280505245474818 What We Know — and Don’t Know — about Microtargeting and Its Influence on Political Behaviour https://t.co/DxrQT4VYM9\n",
      "2020-04-13 08:50:21 472228303 Dat geldt niet alleen voor de Corona-app, maar ook voor bijvoorbeeld microtargeting: op individuele kiezers gerichte campagne-boodschappen.\n",
      " \n",
      "Daar zitten de risico's niet alleen in het private 'privacy' maar ook in de bescherming van de keuzevrijheid en de publieke ruimte.\n",
      "2020-04-13 08:42:26 951256942038732801 @Nextborn @BrandonBeckham_ @realDonaldTrump I get what this article is saying, but don't agree with most of it. To me, it is just a defensive smear job. Google, Twitter, FB, &amp; MSM are all against Trump. They censor conservatives. Microtargeting is common w/ both parties. So are trolls &amp; bots. I just vote based on policy.\n",
      "2020-04-13 01:12:06 1232121157115154432 @marlo_safi In about 50 years we will look back on ads like that in the same way we view vacuum and blender ads from the early 1960s. \n",
      "\n",
      "Just grotesque ,over the top microtargeting of a supposed ideal lifestyle brand for women that in reality was farcical.\n",
      "2020-04-12 22:33:41 948599302288326656 The microtargeting on #coronavirus was different for the Sanders people vs the Boomers.\n",
      "So the Sanders people are/were scared and the Boomers were not and turned out to vote.\n",
      "This helped biden win so that Trump had his own Pied-Piper.\n",
      "Meanwhile STAY HOME.\n",
      "https://t.co/ncudyO1m9E\n",
      "2020-04-12 18:45:09 1236769687968591877 @Brenny1097 @jolefson50 @ByronYork They met for the express purpose of obtaining assistance from the Russian govt to assist trump’s campaign: COLLUSION!!\n",
      "\n",
      "They shared the internal polling data for one reason: it allowed microtargeting of the Russian social media operation.\n",
      "2020-04-12 15:23:15 55519034 - Lockdown could be lifted when new protection protocols\n",
      " -Very real possibility of the virus lingering on through the year, - Microtargeting approach could help decelerate its spread while keeping livelihoods going.\n",
      "\n",
      "3/3\n",
      "\n",
      "#indianeconomy #COVID2019india #economy\n",
      "2020-04-12 14:06:07 2587554037 Microtargeting. https://t.co/EBeE6bcI5c\n",
      "2020-04-12 13:41:30 1239348755658190849 @SpockResists I love how everyone in comments ignores your point about microtargeting and is responding with how outraged they are about charging a fee to use elevators.\n",
      "2020-04-12 07:17:38 1229808962272473088 @CinephobiaRadio absolute distraction. We didnt understand the true nature of relativity. The beast was able to gather the data to switch from microtargeting-to-us towards microtargeting-as-us utilizing new deep animation technology to control our identities within our new quarantine space.\n",
      "2020-04-12 02:19:00 929488002610581505 @FVNate Not to mention, while yes, there's correlation between share of national popular vote &amp; statewide results, the easiest Biden path is very simply flipping back PA, MI &amp; WI - states which correlate decently well w each other, tho no doubt, big differences in microtargeting\n",
      "2020-04-12 00:38:37 1220046726255595520 El #bigdata y cómo tus #likes les permiten a los anunciantes hacer publicidad a la medida (#microsegmentacion), incluido los #partidospoliticos y #candidatos. \n",
      "#elecciones #CambridgeAnalytica\n",
      "#microtargeting\n",
      "https://t.co/mVhpaLWnbM\n",
      "2020-04-11 20:47:26 75209239 And when you see all these names, super sketchy with very bad histories of abhorrent views, connected to each other with power  players with reputations for abusing data. Of course they love the idea of microtargeting on Facebook, and no surprise in reports Thiel is behind it. https://t.co/9ob92p7VMA\n",
      "2020-04-11 12:00:07 33683331 Political advertising has long corrupted U.S. politics, but limitations around microtargeting of political ads are only part of the solution: https://t.co/bhtgbJ5MZX https://t.co/O8UB73llDj\n",
      "2020-04-11 03:27:43 87877970 Mobile ad campaigns are not cheap. So why would they make that investment and not bother to proofread? #YouHadOneJob\n",
      "Maybe it's an ingenious tactic of microtargeting pedants to trick them into reposting the ad. In which case it has worked. https://t.co/Z2IQTbKZZS\n",
      "2020-04-10 20:48:14 1222169164783267842 @lifeat40mph @maggieNYT He founded Hawkfish -- which created a very powerful data analysis/microtargeting tool that nullifies Trumps data analysis tools advantage. With it, the playing field is leveled, without it or something as powerful, the Trump campaign has a huge advantage.\n",
      "2020-04-10 20:42:30 1222169164783267842 @maggieNYT Bloomberg's Hawkfish levels the data playing field.\n",
      "\n",
      "At this point, Trump has a massive advantage in microtargeting persuadable voters &amp; identifying which voters would vote for him if just given a little nudge/help.\n",
      "\n",
      "If Waleed Shahid can match Hawkfish then he should provide it.\n",
      "2020-04-10 19:19:35 1106407987 @matteosalvinimi Usare strategie di microtargeting e fabbriche di fakenews per anni, anche in situazioni tragiche come questa, per influenzare il tuo elettorato disinformato -fomentando ignoranza- è ingiusto per la democrazia e per il tuo stesso elettorato che dimostri di disprezzare per primo.\n",
      "2020-04-10 19:10:29 1112790734380232714 @ProjectLincoln did u catch him saying he can \"overrule governors\"\n",
      "\n",
      "hello, microtargeting of all the Tenthers, true believer libertarians and defenders of our great constitutional republic, etc\n",
      "\n",
      "I mean I suppose there a few with sincere beliefs of that nature?\n",
      "@TheRickWilson @gtconway3d @jwgop\n",
      "2020-04-10 18:22:48 1112790734380232714 @jonfavs @washingtonpost Brix + Fauci are *allowed* to do this by 45, they're allowed to do the right thing\n",
      "\n",
      "it's part of the channel separation + microtargeting strategy in which Trump's own heroic struggle against \"PC fluff\"/scientists/liberals etc can be presented to one segment of his base\n",
      "2020-04-10 17:15:19 1111737819557441539 @MurderBryan @CarlBeijer Pundits can then borrow from those narratives to use them against progressives, i.e. \"foreign interference\" on social media is helping Bernie or \"The Left\" is using snake emojis and being mean to Warren. \n",
      "\n",
      "Microtargeting, Custom Audiences, aka \"the sausage\" are rarely discussed.\n",
      "2020-04-10 15:16:11 83602448 @hsherman @jayrosen_nyu Problem more complex. Soviet \"reflexive control\" strategies turbocharged via the microtargeting social media, algorithms, and AI enable. Possible to microtarget messages that create confusion/doubt to those most vulnerable to emotions/stereotypes/grievances each designed to evoke\n",
      "2020-04-10 13:15:17 75209239 Yes, Facebook and Google have been quiet. It’s important to remember FB freaked market out two months ago (pre-COVID) when it forecasted most revenue deceleration was still ahead due to privacy laws restricting its microtargeting (CCPA has only tightened). https://t.co/btG97SEE80\n",
      "2020-04-10 03:18:09 738386215532175360 @DavidKlion He is microtargeting Bernie supporters age 60-64. I feel seen.\n",
      "2020-04-10 02:00:01 55756399 The Cut microtargeting me again https://t.co/e5wEfPO8gA\n",
      "2020-04-09 23:45:28 86330494 @NievBuscayno @certifiedsonny Who paid for the microtargeting? Surely not the poor?\n"
     ]
    },
    {
     "name": "stdout",
     "output_type": "stream",
     "text": [
      "2020-04-09 17:01:16 1193969226220023808 If you haven't seen Commissioner Weintraub and Dr. Wang's virtual town hall, you can view the recording here: \n",
      "https://t.co/gwpcXLOsyS\n",
      "2020-04-09 17:01:16 1193969226220023808 Thanks to @pace_princeton for the great coverage of @SamWangPhD's talk with @EllenLWeintraub last week! \n",
      "https://t.co/1CjM6bMsf6\n",
      "2020-04-09 15:08:05 28271449 Still\n",
      "psychographic microtargeting of disaffected young progressive men, using stolen data from facebook to calculate (who scored highly on a Machiavellian triad of personality traits)\n",
      "was critical to suppressing the Dem vote in key electoral college states\n",
      "&amp; a 77,000 vote margin https://t.co/VaWWibwyNT\n",
      "2020-04-09 10:35:04 1096013492316979201 Los #MAGA 2.0 producen, especialmente, lástima. Me pregunto si alguno de ellos será recuperable. #microtargeting #cult #MAGADosPuntoCero https://t.co/r9XxCVlQsy\n",
      "2020-04-09 04:52:46 51768649 Ah shit, wait, my bad, Seth Abramson just explained to me that I don't like Biden because I've been compromised by GOP voter suppression efforts and am actually \"shilling for a corporate microtargeting op!\" My bad, gonna go see what I can do about that, as you were.\n",
      "2020-04-09 02:53:15 3223426134 Strutting about online because you think criticizing something Biden did 25 years ago is a sign of uncommon genius is as preposterous as thinking you're the first person to discover that touching yourself feels good. Really, you're just shilling for a corporate microtargeting op.\n",
      "2020-04-09 02:16:59 28901886 So, OCD me wasn't able to just let go, and drop this \"why\" question. Bernie as our last hope, hit me much harder than I expected. \n",
      "\n",
      "I did find a one word answer, like pulling a string on a sweater, that keeps going, and going, MICROTARGETING  =(\n",
      "https://t.co/uOWn2VL3zC\n"
     ]
    }
   ],
   "source": [
    "import csv\n",
    "import xlsxwriter\n",
    "import pandas as pd\n",
    "\n",
    "#The two lines of code below open a file and then prep it for storing data\n",
    "csvFile = open('microtargeting_influence_industry.csv', 'a', encoding='utf8')\n",
    "#Use csv Writer\n",
    "csvWriter = csv.writer(csvFile)\n",
    "\n",
    "for tweet in tweepy.Cursor(api.search, \"influence industry\" and \"microtargeting\", tweet_mode=\"extended\").items(1000):\n",
    "    if 'retweeted_status' in tweet._json:\n",
    "        continue\n",
    "    else: \n",
    "# Write a row to the CSV file. I use encode UTF-8\n",
    "        csvWriter.writerow([tweet.created_at, tweet.user.id, tweet.full_text, ('utf-8')])\n",
    "        print(tweet.created_at, tweet.user.id, tweet.full_text)\n",
    "csvFile.close()\n"
   ]
  },
  {
   "cell_type": "markdown",
   "metadata": {},
   "source": [
    "Counting the tweets"
   ]
  },
  {
   "cell_type": "code",
   "execution_count": 10,
   "metadata": {},
   "outputs": [
    {
     "name": "stdout",
     "output_type": "stream",
     "text": [
      "321\n"
     ]
    }
   ],
   "source": [
    "api = tweepy.API(auth, wait_on_rate_limit=True)\n",
    "\n",
    "result = []\n",
    "counter = 0\n",
    "for tweet in tweepy.Cursor(api.search, \"influence industry\" and \"microtargeting\", tweet_mode=\"extended\").items(500):\n",
    "    result.append(tweet._json)\n",
    "    counter = counter + 1\n",
    "    \n",
    "print(counter)\n",
    "\n"
   ]
  },
  {
   "cell_type": "markdown",
   "metadata": {},
   "source": [
    "Extracting entities"
   ]
  },
  {
   "cell_type": "raw",
   "metadata": {},
   "source": [
    "import spacy\n",
    "nlp = spacy.load('en')\n",
    "api = tweepy.API(auth, wait_on_rate_limit=True)\n",
    "\n",
    "entities = []\n",
    "for tweet in result:\n",
    "    if 'retweeted_status' in tweet:\n",
    "        continue\n",
    "    else: \n",
    "        doc = nlp(tweet[\"full_text\"])\n",
    "        entities.append(doc.ents)\n",
    "\n"
   ]
  },
  {
   "cell_type": "markdown",
   "metadata": {},
   "source": [
    "Saving extracted entities into a csv file"
   ]
  },
  {
   "cell_type": "code",
   "execution_count": 17,
   "metadata": {},
   "outputs": [
    {
     "name": "stdout",
     "output_type": "stream",
     "text": [
      "(first, @EllenLWeintraub, FixingBugsInDemocracy)\n",
      "(🖥, Conocé, más sobre, sobre el tema, 1, °, de estudio, de estudio | FPV 2015)\n",
      "(Micro Targeting, Digitalisierung)\n",
      "(l'économie du numérique - Vidéo - Play RTS, #microtargeting #)\n",
      "(Zuckerberg, International Grand Committee)\n",
      "()\n",
      "(Recordar, Paula Guedes analisa, Leia)\n",
      "(@davidtpegg @PaulLewis, Guardian, Facebook)\n",
      "()\n",
      "(de Corona-app,)\n",
      "(Twitter, MSM, Trump)\n",
      "(about 50 years, the early 1960s)\n",
      "(Sanders, Sanders, Trump, Pied-Piper, STAY HOME)\n",
      "(Russian, one, Russian)\n",
      "(the year, 3/3, #indianeconomy #COVID2019india)\n",
      "()\n",
      "()\n",
      "()\n",
      "(Biden, PA, MI &amp, WI)\n",
      "(El #, #elecciones #, CambridgeAnalytica)\n",
      "(Facebook, Thiel)\n",
      "(U.S.,)\n",
      "()\n",
      "(Hawkfish, Trumps, Trump)\n",
      "(Bloomberg, Trump, Waleed Shahid, Hawkfish)\n",
      "(@matteosalvinimi Usare, situazioni tragiche, elettorato disinformato -fomentando)\n",
      "(@ProjectLincoln, Tenthers)\n",
      "(45, Trump, fluff\"/scientists, one)\n",
      "(@MurderBryan @CarlBeijer, Bernie, Warren, Custom Audiences)\n",
      "(@hsherman @jayrosen_nyu, Soviet)\n",
      "(Google, two months ago, COVID, CCPA)\n",
      "(Bernie, age 60-64)\n",
      "()\n",
      "()\n",
      "(Weintraub, Wang)\n",
      "(@SamWangPhD, @EllenLWeintraub, last week, https://t.co/1CjM6bMsf6)\n",
      "(Machiavellian, Dem, 77,000, https://t.co/VaWWibwyNT)\n",
      "(Los #, 2.0, lástima, alguno de ellos, será, #microtargeting, #cult #)\n",
      "(Seth Abramson, Biden, GOP)\n",
      "(Biden, 25 years ago, first)\n",
      "(one,)\n"
     ]
    }
   ],
   "source": [
    "#The two lines of code below open a file and then prep it for storing data\n",
    "csvFile = open('microtargeting_influence_industry_entities.csv', \"w\")\n",
    "#Use csv Writer\n",
    "csvWriter = csv.writer(csvFile)\n",
    "\n",
    "for ent in entities:\n",
    "# Write a row to the CSV file. I use encode UTF-8\n",
    "        csvWriter.writerow(ent)\n",
    "        print(ent)\n",
    "csvFile.close()"
   ]
  },
  {
   "cell_type": "markdown",
   "metadata": {},
   "source": [
    "Find most common words from entity extraction"
   ]
  },
  {
   "cell_type": "code",
   "execution_count": 18,
   "metadata": {},
   "outputs": [
    {
     "name": "stdout",
     "output_type": "stream",
     "text": [
      "TfidfVectorizer(analyzer='word', binary=False, decode_error='strict',\n",
      "                dtype=<class 'numpy.float64'>, encoding='utf-8',\n",
      "                input='content', lowercase=True, max_df=1.0, max_features=20,\n",
      "                min_df=1, ngram_range=(1, 1), norm='l2', preprocessor=None,\n",
      "                smooth_idf=True, stop_words=None, strip_accents=None,\n",
      "                sublinear_tf=False, token_pattern='(?u)\\\\b\\\\w\\\\w+\\\\b',\n",
      "                tokenizer=None, use_idf=True, vocabulary=None)\n"
     ]
    },
    {
     "ename": "TypeError",
     "evalue": "sequence item 0: expected str instance, spacy.tokens.span.Span found",
     "output_type": "error",
     "traceback": [
      "\u001b[0;31m---------------------------------------------------------------------------\u001b[0m",
      "\u001b[0;31mTypeError\u001b[0m                                 Traceback (most recent call last)",
      "\u001b[0;32m<ipython-input-18-4209c70be184>\u001b[0m in \u001b[0;36m<module>\u001b[0;34m\u001b[0m\n\u001b[1;32m      6\u001b[0m \u001b[0mprint\u001b[0m\u001b[0;34m(\u001b[0m\u001b[0mvectorizer\u001b[0m\u001b[0;34m)\u001b[0m\u001b[0;34m\u001b[0m\u001b[0;34m\u001b[0m\u001b[0m\n\u001b[1;32m      7\u001b[0m \u001b[0;34m\u001b[0m\u001b[0m\n\u001b[0;32m----> 8\u001b[0;31m \u001b[0mas_text\u001b[0m \u001b[0;34m=\u001b[0m \u001b[0;34m[\u001b[0m\u001b[0;34m''\u001b[0m\u001b[0;34m.\u001b[0m\u001b[0mjoin\u001b[0m\u001b[0;34m(\u001b[0m\u001b[0mx\u001b[0m\u001b[0;34m)\u001b[0m \u001b[0;32mfor\u001b[0m \u001b[0mx\u001b[0m \u001b[0;32min\u001b[0m \u001b[0mentities\u001b[0m\u001b[0;34m]\u001b[0m\u001b[0;34m\u001b[0m\u001b[0;34m\u001b[0m\u001b[0m\n\u001b[0m\u001b[1;32m      9\u001b[0m \u001b[0;31m# Then, add this to print as_text. Make sure the data is what you think it is.\u001b[0m\u001b[0;34m\u001b[0m\u001b[0;34m\u001b[0m\u001b[0;34m\u001b[0m\u001b[0m\n\u001b[1;32m     10\u001b[0m \u001b[0mprint\u001b[0m\u001b[0;34m(\u001b[0m\u001b[0mas_text\u001b[0m\u001b[0;34m)\u001b[0m\u001b[0;34m\u001b[0m\u001b[0;34m\u001b[0m\u001b[0m\n",
      "\u001b[0;32m<ipython-input-18-4209c70be184>\u001b[0m in \u001b[0;36m<listcomp>\u001b[0;34m(.0)\u001b[0m\n\u001b[1;32m      6\u001b[0m \u001b[0mprint\u001b[0m\u001b[0;34m(\u001b[0m\u001b[0mvectorizer\u001b[0m\u001b[0;34m)\u001b[0m\u001b[0;34m\u001b[0m\u001b[0;34m\u001b[0m\u001b[0m\n\u001b[1;32m      7\u001b[0m \u001b[0;34m\u001b[0m\u001b[0m\n\u001b[0;32m----> 8\u001b[0;31m \u001b[0mas_text\u001b[0m \u001b[0;34m=\u001b[0m \u001b[0;34m[\u001b[0m\u001b[0;34m''\u001b[0m\u001b[0;34m.\u001b[0m\u001b[0mjoin\u001b[0m\u001b[0;34m(\u001b[0m\u001b[0mx\u001b[0m\u001b[0;34m)\u001b[0m \u001b[0;32mfor\u001b[0m \u001b[0mx\u001b[0m \u001b[0;32min\u001b[0m \u001b[0mentities\u001b[0m\u001b[0;34m]\u001b[0m\u001b[0;34m\u001b[0m\u001b[0;34m\u001b[0m\u001b[0m\n\u001b[0m\u001b[1;32m      9\u001b[0m \u001b[0;31m# Then, add this to print as_text. Make sure the data is what you think it is.\u001b[0m\u001b[0;34m\u001b[0m\u001b[0;34m\u001b[0m\u001b[0;34m\u001b[0m\u001b[0m\n\u001b[1;32m     10\u001b[0m \u001b[0mprint\u001b[0m\u001b[0;34m(\u001b[0m\u001b[0mas_text\u001b[0m\u001b[0;34m)\u001b[0m\u001b[0;34m\u001b[0m\u001b[0;34m\u001b[0m\u001b[0m\n",
      "\u001b[0;31mTypeError\u001b[0m: sequence item 0: expected str instance, spacy.tokens.span.Span found"
     ]
    }
   ],
   "source": [
    "from sklearn.feature_extraction.text import TfidfVectorizer\n",
    "\n",
    "# Just gets the 20 most common words\n",
    "vectorizer = TfidfVectorizer(max_features=20)\n",
    "# First, add this - make sure it's doing what you think (I think this should be a function or a class instance)\n",
    "print(vectorizer)\n",
    "\n",
    "as_text = [''.join(x) for x in entities]\n",
    "# Then, add this to print as_text. Make sure the data is what you think it is.\n",
    "print(as_text)\n",
    "\n",
    "tfidf_result = vectorizer.fit_transform(as_text)\n",
    "# Next, add this - see if this looks like you think it should.\n",
    "print(tfidf_result)\n",
    "# Etc. - at every step, print the output, one at a time, and see if it matches what you think it should look like. This should\n",
    "# at least help you to figure out where the bug is.\n",
    "feature_names = vectorizer.get_feature_names()\n",
    "dense = tfidf_result.todense()\n",
    "denselist = dense.tolist()\n",
    "df = pd.DataFrame(denselist, columns=feature_names).transpose()\n"
   ]
  },
  {
   "cell_type": "code",
   "execution_count": null,
   "metadata": {},
   "outputs": [],
   "source": [
    "vectorizer = TfidfVectorizer()\n",
    "vectors = vectorizer.fit_transform([documentA, documentB])\n",
    "feature_names = vectorizer.get_feature_names()\n",
    "dense = vectors.todense()\n",
    "denselist = dense.tolist()\n",
    "df = pd.DataFrame(denselist, columns=feature_names)"
   ]
  }
 ],
 "metadata": {
  "kernelspec": {
   "display_name": "Python 3",
   "language": "python",
   "name": "python3"
  },
  "language_info": {
   "codemirror_mode": {
    "name": "ipython",
    "version": 3
   },
   "file_extension": ".py",
   "mimetype": "text/x-python",
   "name": "python",
   "nbconvert_exporter": "python",
   "pygments_lexer": "ipython3",
   "version": "3.7.4"
  }
 },
 "nbformat": 4,
 "nbformat_minor": 2
}
